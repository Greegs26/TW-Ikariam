{
 "cells": [
  {
   "cell_type": "markdown",
   "metadata": {},
   "source": [
    "ENTER TEXT HERE"
   ]
  },
  {
   "cell_type": "code",
   "execution_count": null,
   "metadata": {
    "vscode": {
     "languageId": "plaintext"
    }
   },
   "outputs": [],
   "source": [
    "import pandas as pd\n",
    "import matplotlib.pyplot as plt\n",
    "\n",
    "data = {\n",
    "    \"Seafaring\": [532800, 1065600, 1598400, 2131200, 2664000, 3196800, 3729600, 4262400, 4795200, 5328000, \n",
    "                  5860800, 6393600, 6926400, 7459200, 7992000, 8524800, 9057600, 9590400, 10123200, 10656000, \n",
    "                  11188800, 11721600, 12254400, 12787200, 13320000],\n",
    "    \"Economy\": [532800, 1065600, 1598400, 2131200, 2664000, 3196800, 3729600, 4262400, 4795200, 5328000, \n",
    "                5860800, 6393600, 6926400, 7459200, 7992000, 8524800, 9057600, 9590400, 10123200, 10656000, \n",
    "                11188800, 11721600, 12254400, 12787200, 13320000],\n",
    "    \"Science\": [610560, 1221120, 1831680, 2442240, 3052800, 3663360, 4273920, 4884480, 5495040, 6105600, \n",
    "                6716160, 7326720, 7937280, 8547840, 9158400, 9768960, 10379520, 10990080, 11600640, 12211200, \n",
    "                12821760, 13432320, 14042880, 14653440, 15264000],\n",
    "    \"Military\": [532800, 1065600, 1598400, 2131200, 2664000, 3196800, 3729600, 4262400, 4795200, 5328000, \n",
    "                 5860800, 6393600, 6926400, 7459200, 7992000, 8524800, 9057600, 9590400, 10123200, 10656000, \n",
    "                 11188800, 11721600, 12254400, 12787200, 13320000]\n",
    "}\n",
    "\n",
    "# Convert dictionary to DataFrame\n",
    "df = pd.DataFrame(data)\n",
    "df.head()  # Display the first 5 rows"
   ]
  },
  {
   "cell_type": "markdown",
   "metadata": {},
   "source": [
    "ENTER TEXT HERE"
   ]
  },
  {
   "cell_type": "code",
   "execution_count": null,
   "metadata": {
    "vscode": {
     "languageId": "plaintext"
    }
   },
   "outputs": [],
   "source": [
    "# Calculate the total cost for each tech tree\n",
    "total_costs = df.sum()\n",
    "total_costs"
   ]
  },
  {
   "cell_type": "markdown",
   "metadata": {},
   "source": [
    "ENTER TEXT HERE"
   ]
  },
  {
   "cell_type": "code",
   "execution_count": null,
   "metadata": {
    "vscode": {
     "languageId": "plaintext"
    }
   },
   "outputs": [],
   "source": [
    "# Define the server settings directly\n",
    "research_cost_multiplier = 0.5  # e.g., 0.5 for 50%, 1.5 for 150%\n",
    "rp_production_multiplier = 2.0  # e.g., 0.5 for 50%, 1.5 for 150%"
   ]
  },
  {
   "cell_type": "markdown",
   "metadata": {},
   "source": [
    "ENTER TEXT HERE"
   ]
  },
  {
   "cell_type": "code",
   "execution_count": null,
   "metadata": {
    "vscode": {
     "languageId": "plaintext"
    }
   },
   "outputs": [],
   "source": [
    "# Number of cities\n",
    "num_cities = 8\n",
    "\n",
    "# Scientists per city\n",
    "scientists_per_city = 122\n",
    "\n",
    "# RP produced per hour by one scientist\n",
    "rp_per_scientist = 1\n",
    "\n",
    "# Total RP produced per hour by all cities, adjusted for server multiplier\n",
    "total_rp_per_hour = num_cities * scientists_per_city * rp_per_scientist * rp_production_multiplier\n",
    "\n",
    "# Calculate the total RP required for each tech tree, adjusted for server multiplier\n",
    "total_rp_needed = df.sum().sum() * research_cost_multiplier\n",
    "\n",
    "# Calculate the total time required to produce the total RP needed (in hours)\n",
    "total_time_hours = total_rp_needed / total_rp_per_hour\n",
    "\n",
    "# Convert time from hours to days\n",
    "total_time_days = total_time_hours / 24\n",
    "\n",
    "# Convert time from days to years\n",
    "total_time_years = total_time_days / 365.25  # Accounting for leap years\n",
    "\n",
    "total_time_hours, total_time_days, total_time_years"
   ]
  }
 ],
 "metadata": {
  "language_info": {
   "name": "python"
  }
 },
 "nbformat": 4,
 "nbformat_minor": 2
}
