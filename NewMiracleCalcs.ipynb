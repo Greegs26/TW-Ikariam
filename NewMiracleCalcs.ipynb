{
 "cells": [
  {
   "cell_type": "code",
   "execution_count": null,
   "metadata": {},
   "outputs": [],
   "source": [
    "import numpy as np\n",
    "import matplotlib.pyplot as plt\n",
    "\n",
    "# Define the function to calculate Basic Housing Space\n",
    "def calculate_basic_housing_space(level):\n",
    "    return (10 * np.sqrt(level**3) * 2) + 40\n",
    "\n",
    "# Define a function to round down to the nearest even number\n",
    "def round_down_to_nearest_even(number):\n",
    "    rounded_number = np.floor(number)\n",
    "    if rounded_number % 2 != 0:\n",
    "        rounded_number -= 1\n",
    "    return rounded_number\n",
    "\n",
    "# Levels from 1 to 66\n",
    "levels = np.arange(1, 67)\n",
    "\n",
    "# Calculate Basic Housing Space and round down to nearest even number\n",
    "basic_housing_space = (10 * np.sqrt(levels**3) * 2) + 40\n",
    "rounded_housing_space = np.floor(basic_housing_space / 2) * 2\n",
    "\n",
    "# Create an array with the results of Basic Housing Space\n",
    "#basic_housing_space_array = np.column_stack((levels, rounded_housing_space))"
   ]
  },
  {
   "cell_type": "code",
   "execution_count": null,
   "metadata": {},
   "outputs": [],
   "source": [
    "# Plot the results\n",
    "plt.figure(figsize=(12, 8))\n",
    "plt.plot(levels, rounded_housing_space, marker='o', linestyle='-', color='b', label='Rounded Housing Space')\n",
    "plt.xlabel('Level')\n",
    "plt.ylabel('Basic Housing Space')\n",
    "plt.title('Basic Housing Space by Level (Rounded Down to Nearest Even Number)')\n",
    "plt.xticks(levels)\n",
    "plt.legend()\n",
    "plt.grid(True)\n",
    "plt.show()"
   ]
  },
  {
   "cell_type": "code",
   "execution_count": null,
   "metadata": {},
   "outputs": [],
   "source": [
    "# Calculate the number of priests needed for each level\n",
    "priests_needed = calculate_priests_needed(rounded_housing_space)\n",
    "\n",
    "# Calculate the difference between rounded housing space and priests needed\n",
    "difference = rounded_housing_space - priests_needed\n",
    "\n",
    "# Display the results\n",
    "for level, housing_space, priests, diff in zip(levels, rounded_housing_space, priests_needed, difference):\n",
    "    print(f\"Level {level}: Housing Space = {housing_space}, Priests Needed = {int(priests)}, Difference = {housing_space - priests}\")"
   ]
  },
  {
   "cell_type": "code",
   "execution_count": null,
   "metadata": {},
   "outputs": [],
   "source": [
    "# Plot the results\n",
    "plt.figure(figsize=(12, 8))\n",
    "plt.plot(levels, rounded_housing_space, marker='o', linestyle='-', color='b', label='Rounded Housing Space')\n",
    "plt.plot(levels, priests_needed, marker='o', linestyle='-', color='r', label='Priests Needed')\n",
    "plt.plot(levels, difference, marker='o', linestyle='-', color='g', label='Difference (Housing Space - Priests)')\n",
    "plt.xlabel('Level')\n",
    "plt.ylabel('Value')\n",
    "plt.title('Basic Housing Space, Priests Needed, and Difference by Level')\n",
    "plt.xticks(levels)\n",
    "plt.legend()\n",
    "plt.grid(True)\n",
    "plt.show()"
   ]
  }
 ],
 "metadata": {
  "language_info": {
   "name": "python"
  }
 },
 "nbformat": 4,
 "nbformat_minor": 2
}
